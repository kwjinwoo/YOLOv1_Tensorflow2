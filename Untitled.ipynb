{
 "cells": [
  {
   "cell_type": "code",
   "execution_count": 1,
   "id": "9d1d30f8-d99c-44ac-bb9c-ec909e2feaa0",
   "metadata": {},
   "outputs": [],
   "source": [
    "import matplotlib.pyplot as plt\n",
    "import cv2\n",
    "from glob import glob"
   ]
  },
  {
   "cell_type": "code",
   "execution_count": 16,
   "id": "e54b88e8-c3bb-48bb-9d60-d20241319f0f",
   "metadata": {},
   "outputs": [
    {
     "data": {
      "text/plain": [
       "<Figure size 4608x2304 with 0 Axes>"
      ]
     },
     "metadata": {},
     "output_type": "display_data"
    }
   ],
   "source": [
    "train_imgs = glob(\"./infer/train*\")\n",
    "plt.figure(figsize=(64, 32))\n",
    "for i, img_path in enumerate(train_imgs):\n",
    "    img = cv2.imread(img_path)\n",
    "    img = cv2.cvtColor(img, cv2.COLOR_BGR2RGB)\n",
    "    \n",
    "    plt.subplot(1, 5, i + 1)\n",
    "    plt.imshow(img)\n",
    "    plt.axis(\"off\")\n",
    "plt.savefig(\"./asset/Train_result.png\", bbox_inches='tight', pad_inches=0.1)    "
   ]
  },
  {
   "cell_type": "code",
   "execution_count": 17,
   "id": "8a5b9f20-7762-487d-9e4d-c42599e94342",
   "metadata": {},
   "outputs": [
    {
     "data": {
      "text/plain": [
       "<Figure size 4608x2304 with 0 Axes>"
      ]
     },
     "metadata": {},
     "output_type": "display_data"
    }
   ],
   "source": [
    "train_imgs = glob(\"./infer/val*\")\n",
    "plt.figure(figsize=(64, 32))\n",
    "for i, img_path in enumerate(train_imgs):\n",
    "    img = cv2.imread(img_path)\n",
    "    img = cv2.cvtColor(img, cv2.COLOR_BGR2RGB)\n",
    "    \n",
    "    plt.subplot(1, 5, i + 1)\n",
    "    plt.imshow(img)\n",
    "    plt.axis(\"off\")\n",
    "plt.savefig(\"./asset/Valid_result.png\", bbox_inches='tight', pad_inches=0.1)   "
   ]
  },
  {
   "cell_type": "code",
   "execution_count": 18,
   "id": "7fe269bd-2d2d-4e55-aed7-8771fa16119a",
   "metadata": {},
   "outputs": [
    {
     "data": {
      "text/plain": [
       "<Figure size 4608x2304 with 0 Axes>"
      ]
     },
     "metadata": {},
     "output_type": "display_data"
    }
   ],
   "source": [
    "train_imgs = glob(\"./infer/test*\")\n",
    "plt.figure(figsize=(64, 32))\n",
    "for i, img_path in enumerate(train_imgs):\n",
    "    img = cv2.imread(img_path)\n",
    "    img = cv2.cvtColor(img, cv2.COLOR_BGR2RGB)\n",
    "    \n",
    "    plt.subplot(1, 5, i + 1)\n",
    "    plt.imshow(img)\n",
    "    plt.axis(\"off\")\n",
    "plt.savefig(\"./asset/Test_result.png\", bbox_inches='tight', pad_inches=0.1)   "
   ]
  },
  {
   "cell_type": "code",
   "execution_count": null,
   "id": "8e814f9e-0f83-41ad-acd2-e7b345d163e5",
   "metadata": {},
   "outputs": [],
   "source": []
  }
 ],
 "metadata": {
  "kernelspec": {
   "display_name": "Python 3 (ipykernel)",
   "language": "python",
   "name": "python3"
  },
  "language_info": {
   "codemirror_mode": {
    "name": "ipython",
    "version": 3
   },
   "file_extension": ".py",
   "mimetype": "text/x-python",
   "name": "python",
   "nbconvert_exporter": "python",
   "pygments_lexer": "ipython3",
   "version": "3.8.13"
  }
 },
 "nbformat": 4,
 "nbformat_minor": 5
}
